{
 "cells": [
  {
   "cell_type": "markdown",
   "metadata": {},
   "source": [
    "# Before your start:\n",
    "\n",
    "    Read the README.md file\n",
    "    Comment as much as you can and use the resources (README.md file)\n",
    "    Happy learning!"
   ]
  },
  {
   "cell_type": "markdown",
   "metadata": {},
   "source": [
    "In this exercise, we  will generate random numbers from the continuous disributions we learned in the lesson. There are two ways to generate random numbers:\n",
    "\n",
    "1. Using the numpy library \n",
    "1. using the Scipy library \n",
    "\n",
    "Use either or both of the lbraries in this exercise."
   ]
  },
  {
   "cell_type": "markdown",
   "metadata": {},
   "source": [
    "## Uniform Distribution\n",
    "\n",
    "To generate uniform random numbers between any two given values using scipy, we can either use the following code or the code that we have\n",
    "discussed in class:"
   ]
  },
  {
   "cell_type": "code",
   "execution_count": 1,
   "metadata": {},
   "outputs": [
    {
     "name": "stdout",
     "output_type": "stream",
     "text": [
      "[2.89315635 2.85305314 2.07908984 2.46908048 2.09756408 2.77862197\n",
      " 2.68486356 2.95450367 2.14277768 2.32433705]\n"
     ]
    }
   ],
   "source": [
    "from scipy.stats import uniform\n",
    "x = uniform.rvs(size=10)\n",
    "a = 2\n",
    "b = 3\n",
    "randoms  = a + (b-a)*x\n",
    "print(randoms)"
   ]
  },
  {
   "cell_type": "markdown",
   "metadata": {},
   "source": [
    "**Your task:**\n",
    "\n",
    "1. Based on the code above, write a function that generates uniformly distributed random numbers. There are several requirements for your function:\n",
    "    * It should accept 3 parameters: \n",
    "        * `bottom` - the lower boundary of the generated numbers\n",
    "        * `ceiling` - the upper boundary of the generated numbers\n",
    "        * `count` - how many numbers to generate\n",
    "    * It should return an array of uniformly distributed random numbers\n",
    "\n",
    "1. Call your function with 2 sets of params below:\n",
    "    * bottom=10, ceiling=15, count=100\n",
    "    * bottom=10, ceiling=60, count=1,000\n",
    "\n",
    "1. Plot the uniform distributions generated above using histograms, where x axis is the value and y axis is the count. Let the histogram's number of bins be 10.\n",
    "\n",
    "Your output should look like below:\n",
    "\n",
    "![uniform distribution](ud.png)"
   ]
  },
  {
   "cell_type": "code",
   "execution_count": 2,
   "metadata": {},
   "outputs": [],
   "source": [
    "# your code here\n",
    "import matplotlib.pyplot as plt\n",
    "from scipy.stats import uniform\n",
    "def fun_unif(bottom,ceiling,count):\n",
    "    x = uniform.rvs(size=count)\n",
    "    a = bottom\n",
    "    b = ceiling\n",
    "    randoms  = a + (b-a)*x\n",
    "    return randoms\n"
   ]
  },
  {
   "cell_type": "code",
   "execution_count": 3,
   "metadata": {},
   "outputs": [],
   "source": [
    "uniforme1=fun_unif(10,15,100)\n",
    "uniforme2=fun_unif(10,60,1000)"
   ]
  },
  {
   "cell_type": "code",
   "execution_count": 4,
   "metadata": {},
   "outputs": [
    {
     "data": {
      "text/plain": [
       "(array([115.,  96.,  99.,  92.,  99., 105.,  91., 108.,  95., 100.]),\n",
       " array([10.00521609, 14.99974703, 19.99427798, 24.98880892, 29.98333987,\n",
       "        34.97787081, 39.97240175, 44.9669327 , 49.96146364, 54.95599459,\n",
       "        59.95052553]),\n",
       " <a list of 10 Patch objects>)"
      ]
     },
     "execution_count": 4,
     "metadata": {},
     "output_type": "execute_result"
    },
    {
     "data": {
      "image/png": "[encoded data removed]",
      "text/plain": [
       "<Figure size 432x288 with 2 Axes>"
      ]
     },
     "metadata": {
      "needs_background": "light"
     },
     "output_type": "display_data"
    }
   ],
   "source": [
    "fig,(ax1,ax2)=plt.subplots(1,2,sharey=True)\n",
    "ax1.hist(uniforme1,bins=10)\n",
    "ax2.hist(uniforme2,bins=10)"
   ]
  },
  {
   "cell_type": "markdown",
   "metadata": {},
   "source": [
    "How are the two distributions different?"
   ]
  },
  {
   "cell_type": "code",
   "execution_count": 5,
   "metadata": {},
   "outputs": [],
   "source": [
    "# your answer below\n",
    "#Los techos o límites superiores son diferentes, en el primer caso es de 15 y en el segundo es de 60. También el número de elementos generados para el primer histograma fue de 100, mientras que para el segundo fue de 1000. "
   ]
  },
  {
   "cell_type": "markdown",
   "metadata": {},
   "source": [
    "## Normal Distribution\n",
    "\n",
    "1. In the same way in the Uniform Distribution challenge, write a function that generates normally distributed random numbers.\n",
    "1. Generate 1,000 normally distributed numbers with the average of 10 and standard deviation of 1\n",
    "1. Generate 1,000 normally distributed numbers with the average of 10 and standard deviation of 50\n",
    "2. Plot the distributions of the data generated.\n",
    "\n",
    "Expected output:\n",
    "\n",
    "![normal distribution](nd.png)"
   ]
  },
  {
   "cell_type": "code",
   "execution_count": 6,
   "metadata": {},
   "outputs": [],
   "source": [
    "# your code here\n",
    "from scipy.stats import norm\n",
    "def fun_norm(mean,std,count):\n",
    "    x = norm.rvs(size=count)\n",
    "    random  = mean+(std*x)\n",
    "    return random"
   ]
  },
  {
   "cell_type": "code",
   "execution_count": 7,
   "metadata": {},
   "outputs": [],
   "source": [
    "normal1=fun_norm(10,1,1000)\n",
    "normal2=fun_norm(10,50,1000)"
   ]
  },
  {
   "cell_type": "code",
   "execution_count": 8,
   "metadata": {},
   "outputs": [
    {
     "data": {
      "text/plain": [
       "(array([ 2.,  2.,  0.,  5.,  1.,  7.,  4.,  3.,  9.,  6., 11., 11., 15.,\n",
       "        23., 14., 29., 28., 44., 45., 50., 39., 45., 45., 46., 40., 54.,\n",
       "        46., 45., 42., 38., 39., 38., 19., 28., 24., 17., 20., 12., 12.,\n",
       "        11.,  4.,  8.,  6.,  3.,  4.,  2.,  0.,  0.,  0.,  4.]),\n",
       " array([-143.57150259, -137.24324399, -130.9149854 , -124.5867268 ,\n",
       "        -118.25846821, -111.93020961, -105.60195102,  -99.27369242,\n",
       "         -92.94543383,  -86.61717523,  -80.28891664,  -73.96065804,\n",
       "         -67.63239945,  -61.30414085,  -54.97588226,  -48.64762366,\n",
       "         -42.31936507,  -35.99110647,  -29.66284788,  -23.33458928,\n",
       "         -17.00633069,  -10.67807209,   -4.3498135 ,    1.97844509,\n",
       "           8.30670369,   14.63496228,   20.96322088,   27.29147947,\n",
       "          33.61973807,   39.94799666,   46.27625526,   52.60451385,\n",
       "          58.93277245,   65.26103104,   71.58928964,   77.91754823,\n",
       "          84.24580683,   90.57406542,   96.90232402,  103.23058261,\n",
       "         109.55884121,  115.8870998 ,  122.2153584 ,  128.54361699,\n",
       "         134.87187559,  141.20013418,  147.52839277,  153.85665137,\n",
       "         160.18490996,  166.51316856,  172.84142715]),\n",
       " <a list of 50 Patch objects>)"
      ]
     },
     "execution_count": 8,
     "metadata": {},
     "output_type": "execute_result"
    },
    {
     "data": {
      "image/png": "[encoded data removed]",
      "text/plain": [
       "<Figure size 432x288 with 2 Axes>"
      ]
     },
     "metadata": {
      "needs_background": "light"
     },
     "output_type": "display_data"
    }
   ],
   "source": [
    "fig,(ax1,ax2)=plt.subplots(1,2,sharey=True)\n",
    "ax1.hist(normal1,bins=50)\n",
    "ax2.hist(normal2,bins=50)"
   ]
  },
  {
   "cell_type": "markdown",
   "metadata": {},
   "source": [
    "How are the two distributions different?"
   ]
  },
  {
   "cell_type": "code",
   "execution_count": 9,
   "metadata": {},
   "outputs": [],
   "source": [
    "# your answer below\n",
    "#La diferencia está en la desviación estándar, en la primera la desviación estándar es de 1, mientras que en la segunda es de 50."
   ]
  },
  {
   "cell_type": "markdown",
   "metadata": {},
   "source": [
    "## Normal Distribution of Real Data\n",
    "\n",
    "In this challenge we are going to take a look the real data. We will use vehicles.csv file for this exercise"
   ]
  },
  {
   "cell_type": "markdown",
   "metadata": {},
   "source": [
    "First import vehicles.csv.\n",
    "Then plot the histograms for the following variables:\n",
    "\n",
    "1. Fuel Barrels/Year"
   ]
  },
  {
   "cell_type": "code",
   "execution_count": 10,
   "metadata": {},
   "outputs": [
    {
     "data": {
      "text/plain": [
       "<matplotlib.axes._subplots.AxesSubplot at 0x2151ad6a220>"
      ]
     },
     "execution_count": 10,
     "metadata": {},
     "output_type": "execute_result"
    },
    {
     "data": {
      "image/png": "[encoded data removed]",
      "text/plain": [
       "<Figure size 432x288 with 1 Axes>"
      ]
     },
     "metadata": {
      "needs_background": "light"
     },
     "output_type": "display_data"
    }
   ],
   "source": [
    "# your code here\n",
    "import pandas as pd\n",
    "vehiculos=pd.read_csv('vehicles.csv')\n",
    "vehiculos['Fuel Barrels/Year'].hist()"
   ]
  },
  {
   "cell_type": "markdown",
   "metadata": {},
   "source": [
    "2. CO2 Emission Grams/Mile "
   ]
  },
  {
   "cell_type": "code",
   "execution_count": 11,
   "metadata": {},
   "outputs": [
    {
     "data": {
      "text/plain": [
       "<matplotlib.axes._subplots.AxesSubplot at 0x21518ceaeb0>"
      ]
     },
     "execution_count": 11,
     "metadata": {},
     "output_type": "execute_result"
    },
    {
     "data": {
      "image/png": "[encoded data removed]",
      "text/plain": [
       "<Figure size 432x288 with 1 Axes>"
      ]
     },
     "metadata": {
      "needs_background": "light"
     },
     "output_type": "display_data"
    }
   ],
   "source": [
    "# your code here\n",
    "vehiculos['CO2 Emission Grams/Mile'].hist()"
   ]
  },
  {
   "cell_type": "markdown",
   "metadata": {},
   "source": [
    "3. Combined MPG"
   ]
  },
  {
   "cell_type": "code",
   "execution_count": 12,
   "metadata": {},
   "outputs": [
    {
     "data": {
      "text/plain": [
       "<matplotlib.axes._subplots.AxesSubplot at 0x2151ae5edc0>"
      ]
     },
     "execution_count": 12,
     "metadata": {},
     "output_type": "execute_result"
    },
    {
     "data": {
      "image/png": "[encoded data removed]",
      "text/plain": [
       "<Figure size 432x288 with 1 Axes>"
      ]
     },
     "metadata": {
      "needs_background": "light"
     },
     "output_type": "display_data"
    }
   ],
   "source": [
    "# your code here\n",
    "vehiculos['Combined MPG'].hist()"
   ]
  },
  {
   "cell_type": "markdown",
   "metadata": {},
   "source": [
    "Which one(s) of the variables are nearly normally distributed? How do you know?"
   ]
  },
  {
   "cell_type": "code",
   "execution_count": 13,
   "metadata": {},
   "outputs": [],
   "source": [
    "# your answer here: La que yo considero que tiene una figura de campana más difinida y se ve más simétrica es la primera (Fuel Barrels/Year). las otras dos se ven un poco más sesgadas a la izquierda."
   ]
  },
  {
   "cell_type": "markdown",
   "metadata": {},
   "source": [
    "## Exponential Distribution"
   ]
  },
  {
   "cell_type": "markdown",
   "metadata": {},
   "source": [
    "1. Using `numpy.random.exponential`, create a function that returns a list of numbers exponentially distributed with the mean of 10. \n",
    "\n",
    "1. Use the function to generate two number sequences with the size of 1 and 100.\n",
    "\n",
    "1. Plot the distributions as histograms with the nubmer of bins as 100.\n",
    "\n",
    "Your output should look like below:\n",
    "\n",
    "![exponential distribution](ed.png)"
   ]
  },
  {
   "cell_type": "code",
   "execution_count": 14,
   "metadata": {},
   "outputs": [],
   "source": [
    "# De acuerdo al comentario de Zahid en el Slack en lugar de cambiar el tamaño de la muestra (de 1 a 100) lo que tiene que cambiar es el valor del parámetro \"escala\" (de 1 a 100)\n",
    "# your code here\n",
    "import numpy as np\n",
    "def fun_exp(param,count):\n",
    "    x=np.random.exponential(scale=param,size=count)\n",
    "    return x"
   ]
  },
  {
   "cell_type": "code",
   "execution_count": 15,
   "metadata": {},
   "outputs": [],
   "source": [
    "exponencial1=fun_exp(1,1000)\n",
    "exponencial2=fun_exp(100,1000)"
   ]
  },
  {
   "cell_type": "code",
   "execution_count": 16,
   "metadata": {},
   "outputs": [
    {
     "data": {
      "text/plain": [
       "(array([56., 65., 72., 50., 68., 49., 43., 34., 40., 34., 35., 33., 25.,\n",
       "        28., 23., 28., 22., 17., 14., 25., 23., 16., 29., 11.,  7., 13.,\n",
       "         7., 10.,  6., 11.,  8.,  7., 12.,  8.,  2.,  5.,  4.,  5.,  3.,\n",
       "         3.,  2.,  3.,  1.,  1.,  2.,  1.,  4.,  5.,  1.,  0.,  2.,  3.,\n",
       "         5.,  0.,  2.,  1.,  2.,  0.,  0.,  0.,  2.,  0.,  1.,  0.,  2.,\n",
       "         1.,  1.,  0.,  0.,  1.,  2.,  1.,  0.,  0.,  0.,  0.,  0.,  0.,\n",
       "         0.,  1.,  0.,  0.,  0.,  0.,  0.,  0.,  0.,  0.,  0.,  0.,  0.,\n",
       "         0.,  0.,  0.,  0.,  0.,  1.,  0.,  0.,  1.]),\n",
       " array([6.22383288e-02, 7.06273994e+00, 1.40632416e+01, 2.10637432e+01,\n",
       "        2.80642448e+01, 3.50647464e+01, 4.20652480e+01, 4.90657496e+01,\n",
       "        5.60662512e+01, 6.30667528e+01, 7.00672544e+01, 7.70677561e+01,\n",
       "        8.40682577e+01, 9.10687593e+01, 9.80692609e+01, 1.05069763e+02,\n",
       "        1.12070264e+02, 1.19070766e+02, 1.26071267e+02, 1.33071769e+02,\n",
       "        1.40072271e+02, 1.47072772e+02, 1.54073274e+02, 1.61073775e+02,\n",
       "        1.68074277e+02, 1.75074779e+02, 1.82075280e+02, 1.89075782e+02,\n",
       "        1.96076283e+02, 2.03076785e+02, 2.10077287e+02, 2.17077788e+02,\n",
       "        2.24078290e+02, 2.31078792e+02, 2.38079293e+02, 2.45079795e+02,\n",
       "        2.52080296e+02, 2.59080798e+02, 2.66081300e+02, 2.73081801e+02,\n",
       "        2.80082303e+02, 2.87082804e+02, 2.94083306e+02, 3.01083808e+02,\n",
       "        3.08084309e+02, 3.15084811e+02, 3.22085312e+02, 3.29085814e+02,\n",
       "        3.36086316e+02, 3.43086817e+02, 3.50087319e+02, 3.57087821e+02,\n",
       "        3.64088322e+02, 3.71088824e+02, 3.78089325e+02, 3.85089827e+02,\n",
       "        3.92090329e+02, 3.99090830e+02, 4.06091332e+02, 4.13091833e+02,\n",
       "        4.20092335e+02, 4.27092837e+02, 4.34093338e+02, 4.41093840e+02,\n",
       "        4.48094341e+02, 4.55094843e+02, 4.62095345e+02, 4.69095846e+02,\n",
       "        4.76096348e+02, 4.83096850e+02, 4.90097351e+02, 4.97097853e+02,\n",
       "        5.04098354e+02, 5.11098856e+02, 5.18099358e+02, 5.25099859e+02,\n",
       "        5.32100361e+02, 5.39100862e+02, 5.46101364e+02, 5.53101866e+02,\n",
       "        5.60102367e+02, 5.67102869e+02, 5.74103370e+02, 5.81103872e+02,\n",
       "        5.88104374e+02, 5.95104875e+02, 6.02105377e+02, 6.09105879e+02,\n",
       "        6.16106380e+02, 6.23106882e+02, 6.30107383e+02, 6.37107885e+02,\n",
       "        6.44108387e+02, 6.51108888e+02, 6.58109390e+02, 6.65109891e+02,\n",
       "        6.72110393e+02, 6.79110895e+02, 6.86111396e+02, 6.93111898e+02,\n",
       "        7.00112399e+02]),\n",
       " <a list of 100 Patch objects>)"
      ]
     },
     "execution_count": 16,
     "metadata": {},
     "output_type": "execute_result"
    },
    {
     "data": {
      "image/png": "[encoded data removed]",
      "text/plain": [
       "<Figure size 432x288 with 2 Axes>"
      ]
     },
     "metadata": {
      "needs_background": "light"
     },
     "output_type": "display_data"
    }
   ],
   "source": [
    "fig,(ax1,ax2)=plt.subplots(1,2,sharey=True)\n",
    "ax1.hist(exponencial1,bins=100)\n",
    "ax2.hist(exponencial2,bins=100)"
   ]
  },
  {
   "cell_type": "markdown",
   "metadata": {},
   "source": [
    "How are the two distributions different?"
   ]
  },
  {
   "cell_type": "code",
   "execution_count": 17,
   "metadata": {},
   "outputs": [],
   "source": [
    "# your answer here\n",
    "#La primera gráfica tiene un parámetro de 1, mientras que en la segunda el valor del parámetro es 100."
   ]
  },
  {
   "cell_type": "markdown",
   "metadata": {},
   "source": [
    "## Exponential Distribution of Real Data\n",
    "\n",
    "Suppose that the amount of time one spends in a bank is exponentially distributed with mean as 10 minutes (i.e. λ = 1/10). What is the probability that a customer will spend less than fifteen minutes in the bank? \n",
    "\n",
    "Write a code in python to solve this problem"
   ]
  },
  {
   "cell_type": "code",
   "execution_count": 18,
   "metadata": {},
   "outputs": [
    {
     "name": "stdout",
     "output_type": "stream",
     "text": [
      "0.7768698398515702\n"
     ]
    }
   ],
   "source": [
    "# your answer here\n",
    "# Hint: This is same as saying P(x<15)\n",
    "from scipy.stats import expon\n",
    "probabilidad=expon.cdf(15,scale=10)\n",
    "print(probabilidad)"
   ]
  },
  {
   "cell_type": "markdown",
   "metadata": {},
   "source": [
    "What is the probability that the customer will spend more than 15 minutes"
   ]
  },
  {
   "cell_type": "code",
   "execution_count": 19,
   "metadata": {},
   "outputs": [
    {
     "name": "stdout",
     "output_type": "stream",
     "text": [
      "0.2231301601484298\n"
     ]
    }
   ],
   "source": [
    "# your answer here\n",
    "probabilidad2=1-probabilidad\n",
    "print(probabilidad2)"
   ]
  }
 ],
 "metadata": {
  "kernelspec": {
   "display_name": "Python 3",
   "language": "python",
   "name": "python3"
  },
  "language_info": {
   "codemirror_mode": {
    "name": "ipython",
    "version": 3
   },
   "file_extension": ".py",
   "mimetype": "text/x-python",
   "name": "python",
   "nbconvert_exporter": "python",
   "pygments_lexer": "ipython3",
   "version": "3.8.3"
  }
 },
 "nbformat": 4,
 "nbformat_minor": 2
}
